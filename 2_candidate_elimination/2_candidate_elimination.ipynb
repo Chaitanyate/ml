{
 "cells": [
  {
   "cell_type": "markdown",
   "metadata": {},
   "source": [
    "# 2 : Implement and demonstrate the Candidate-Elimination algorithm"
   ]
  },
  {
   "cell_type": "markdown",
   "metadata": {},
   "source": [
    " "
   ]
  },
  {
   "cell_type": "code",
   "execution_count": 1,
   "metadata": {},
   "outputs": [],
   "source": [
    "import csv"
   ]
  },
  {
   "cell_type": "markdown",
   "metadata": {},
   "source": [
    " "
   ]
  },
  {
   "cell_type": "code",
   "execution_count": 18,
   "metadata": {},
   "outputs": [],
   "source": [
    "data_list = []\n",
    "\n",
    "with open('data.csv', 'r') as csvFile:\n",
    "    reader = csv.reader(csvFile)\n",
    "    for row in reader:\n",
    "        data_list.append(row)"
   ]
  },
  {
   "cell_type": "markdown",
   "metadata": {},
   "source": [
    " "
   ]
  },
  {
   "cell_type": "code",
   "execution_count": 19,
   "metadata": {},
   "outputs": [
    {
     "name": "stdout",
     "output_type": "stream",
     "text": [
      "The Initial value of hypothesis\n",
      "\n",
      "The most specific hypothesis S0 :  ['0', '0', '0', '0', '0', '0']\n",
      "The most general hypothesis G0 :  ['?', '?', '?', '?', '?', '?']\n"
     ]
    }
   ],
   "source": [
    "*first_sample, output = data_list[0]\n",
    "num_attributes = len(first_sample) \n",
    "\n",
    "S = ['0'] * num_attributes\n",
    "G = ['?'] * num_attributes\n",
    "\n",
    "print(\"The Initial value of hypothesis\", end='\\n\\n')\n",
    "print (\"The most specific hypothesis S0 : \", S)\n",
    "print (\"The most general hypothesis G0 : \", G)"
   ]
  },
  {
   "cell_type": "markdown",
   "metadata": {},
   "source": [
    " "
   ]
  },
  {
   "cell_type": "code",
   "execution_count": 20,
   "metadata": {},
   "outputs": [],
   "source": [
    "# Comparing with First Training Example ( Assigning )\n",
    "\n",
    "S = first_sample[:]"
   ]
  },
  {
   "cell_type": "markdown",
   "metadata": {},
   "source": [
    " "
   ]
  },
  {
   "cell_type": "code",
   "execution_count": 36,
   "metadata": {},
   "outputs": [
    {
     "name": "stdout",
     "output_type": "stream",
     "text": [
      "Candidate Elimination algorithm  Hypotheses Version Space Computation\n",
      "\n",
      "\n",
      "for training example no : 1, S1:  ['Sunny', 'Warm', '?', 'Strong', '?', '?']\n",
      "for training example no : 1, G1:  ['?', '?', '?', '?', '?', '?']\n",
      "------------------------------------------------------------------------------------------\n",
      "\n",
      "for training example no : 2, S2:  ['Sunny', 'Warm', '?', 'Strong', '?', '?']\n",
      "for training example no : 2, G2:  ['?', '?', '?', '?', '?', '?']\n",
      "------------------------------------------------------------------------------------------\n",
      "\n",
      "for training example no : 3, S3:  ['Sunny', 'Warm', '?', 'Strong', '?', '?']\n",
      "for training example no : 3, G3:  [['Sunny', '?', '?', '?', '?', '?'], ['?', 'Warm', '?', '?', '?', '?']]\n",
      "------------------------------------------------------------------------------------------\n",
      "\n",
      "for training example no : 4, S4:  ['Sunny', 'Warm', '?', 'Strong', '?', '?']\n",
      "for training example no : 4, G4:  [['Sunny', '?', '?', '?', '?', '?'], ['?', 'Warm', '?', '?', '?', '?']]\n",
      "------------------------------------------------------------------------------------------\n"
     ]
    }
   ],
   "source": [
    "# Comparing with Remaining Training Examples of Given Data Set\n",
    "\n",
    "print(\"Candidate Elimination algorithm  Hypotheses Version Space Computation\", end='\\n\\n')\n",
    "\n",
    "general_hypothesis_space = []\n",
    "outer_index = 1\n",
    "\n",
    "\n",
    "for *data, output in data_list:\n",
    "    \n",
    "    if output == 'Y':\n",
    "        for index, attribute in enumerate(data):\n",
    "            if attribute != S[index]:\n",
    "                S[index] = '?'\n",
    "\n",
    "        for general_hypothesis in general_hypothesis_space:\n",
    "            for index, attribute in enumerate(general_hypothesis):\n",
    "                 if attribute not in {'?', S[index] }:\n",
    "                    general_hypothesis_space.remove(general_hypothesis)    \n",
    "                                                      #remove it if it's not matching with the specific hypothesis\n",
    "\n",
    "                         \n",
    "    elif output == 'N': \n",
    "        for index, attribute in enumerate(data):\n",
    "             if S[index] not in  {'?', attribute}:    # if not  matching with the specific Hypothesis take it seperately and store it \n",
    "                G[index] = S[index]\n",
    "                general_hypothesis_space.append(G)    # this is the version space to store all Hypotheses\n",
    "                G = ['?'] * num_attributes            # resetting\n",
    "\n",
    "   \n",
    "    #-----------------------------------------printing section-----------------------------\n",
    "    print()\n",
    "    print(\"for training example no : {0}, S{0}: \".format(outer_index), S) \n",
    "    \n",
    "    if ( len(general_hypothesis_space) == 0 ):\n",
    "        print(\"for training example no : {0}, G{0}: \".format(outer_index), G)\n",
    "    else:\n",
    "        print(\"for training example no : {0}, G{0}: \".format(outer_index), general_hypothesis_space)\n",
    "    print('-' * 90)\n",
    "    #---------------------------------------------------------------------------------------   \n",
    "    \n",
    "    outer_index += 1"
   ]
  },
  {
   "cell_type": "markdown",
   "metadata": {},
   "source": [
    " "
   ]
  },
  {
   "cell_type": "code",
   "execution_count": 26,
   "metadata": {},
   "outputs": [
    {
     "name": "stdout",
     "output_type": "stream",
     "text": [
      "Specific hypothesis :  ['Sunny', 'Warm', '?', 'Strong', '?', '?']\n",
      "\n",
      "General hypothesis :  [['Sunny', '?', '?', '?', '?', '?'], ['?', 'Warm', '?', '?', '?', '?']]\n"
     ]
    }
   ],
   "source": [
    "print(\"Specific hypothesis : \", S)\n",
    "print()\n",
    "print(\"General hypothesis : \", general_hypothesis_space)"
   ]
  },
  {
   "cell_type": "markdown",
   "metadata": {},
   "source": [
    " "
   ]
  },
  {
   "cell_type": "code",
   "execution_count": 39,
   "metadata": {},
   "outputs": [
    {
     "name": "stdout",
     "output_type": "stream",
     "text": [
      "Sunny,Warm,Normal,Strong,Warm,Same,Y\n",
      "Sunny,Warm,High,Strong,Warm,Same,Y\n",
      "Rainy,Cold,High,Strong,Warm,Change,N\n",
      "Sunny,Warm,High,Strong,Cool,Change,Y\n",
      "\n"
     ]
    }
   ],
   "source": [
    "# PS: Dataset for clarity\n",
    "print(open('wsce.csv').read())"
   ]
  },
  {
   "cell_type": "code",
   "execution_count": 38,
   "metadata": {},
   "outputs": [
    {
     "data": {
      "text/html": [
       "<style> div.prompt_container{ width: 0px; min-width: 0px; visibility: collapse}</style>"
      ],
      "text/plain": [
       "<IPython.core.display.HTML object>"
      ]
     },
     "metadata": {},
     "output_type": "display_data"
    },
    {
     "data": {
      "text/html": [
       "<style> div.prompt{ width: 0px; min-width: 0px; visibility: collapse}</style>"
      ],
      "text/plain": [
       "<IPython.core.display.HTML object>"
      ]
     },
     "metadata": {},
     "output_type": "display_data"
    },
    {
     "data": {
      "text/html": [
       "<style> div.output pre { font-style: italic; color: rgb(105,105,105) } </style>"
      ],
      "text/plain": [
       "<IPython.core.display.HTML object>"
      ]
     },
     "metadata": {},
     "output_type": "display_data"
    },
    {
     "data": {
      "text/html": [
       "<style>.container { width:100% !important; }</style>"
      ],
      "text/plain": [
       "<IPython.core.display.HTML object>"
      ]
     },
     "metadata": {},
     "output_type": "display_data"
    }
   ],
   "source": []
  }
 ],
 "metadata": {
  "kernelspec": {
   "display_name": "Python 3",
   "language": "python",
   "name": "python3"
  },
  "language_info": {
   "codemirror_mode": {
    "name": "ipython",
    "version": 3
   },
   "file_extension": ".py",
   "mimetype": "text/x-python",
   "name": "python",
   "nbconvert_exporter": "python",
   "pygments_lexer": "ipython3",
   "version": "3.7.5"
  }
 },
 "nbformat": 4,
 "nbformat_minor": 2
}
