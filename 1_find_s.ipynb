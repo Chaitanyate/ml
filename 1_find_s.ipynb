{
  "nbformat": 4,
  "nbformat_minor": 0,
  "metadata": {
    "kernelspec": {
      "display_name": "Python 3",
      "language": "python",
      "name": "python3"
    },
    "language_info": {
      "codemirror_mode": {
        "name": "ipython",
        "version": 3
      },
      "file_extension": ".py",
      "mimetype": "text/x-python",
      "name": "python",
      "nbconvert_exporter": "python",
      "pygments_lexer": "ipython3",
      "version": "3.7.5"
    },
    "colab": {
      "name": "1_find_s.ipynb",
      "provenance": [],
      "include_colab_link": true
    }
  },
  "cells": [
    {
      "cell_type": "markdown",
      "metadata": {
        "id": "view-in-github",
        "colab_type": "text"
      },
      "source": [
        "<a href=\"https://colab.research.google.com/github/ravish0007/ml/blob/master/1_find_s.ipynb\" target=\"_parent\"><img src=\"https://colab.research.google.com/assets/colab-badge.svg\" alt=\"Open In Colab\"/></a>"
      ]
    },
    {
      "cell_type": "markdown",
      "metadata": {
        "id": "WRxMWbh53BP9",
        "colab_type": "text"
      },
      "source": [
        "# 1 : Implement and demonstrate the FIND-S algorithm"
      ]
    },
    {
      "cell_type": "code",
      "metadata": {
        "id": "Mcul2OIM3BQD",
        "colab_type": "code",
        "colab": {}
      },
      "source": [
        "import random\n",
        "import csv\n"
      ],
      "execution_count": 0,
      "outputs": []
    },
    {
      "cell_type": "code",
      "metadata": {
        "id": "R5ZdRMrj3F1l",
        "colab_type": "code",
        "colab": {
          "base_uri": "https://localhost:8080/",
          "height": 213
        },
        "outputId": "6a2ff7ce-acce-4938-8c6e-172f7a3af2d0"
      },
      "source": [
        "!wget https://raw.githubusercontent.com/ravish0007/ml/master/1_find_s/data.csv"
      ],
      "execution_count": 13,
      "outputs": [
        {
          "output_type": "stream",
          "text": [
            "--2019-12-09 08:54:42--  https://raw.githubusercontent.com/ravish0007/ml/master/1_find_s/data.csv\n",
            "Resolving raw.githubusercontent.com (raw.githubusercontent.com)... 151.101.0.133, 151.101.64.133, 151.101.128.133, ...\n",
            "Connecting to raw.githubusercontent.com (raw.githubusercontent.com)|151.101.0.133|:443... connected.\n",
            "HTTP request sent, awaiting response... 200 OK\n",
            "Length: 157 [text/plain]\n",
            "Saving to: ‘data.csv’\n",
            "\n",
            "\rdata.csv              0%[                    ]       0  --.-KB/s               \rdata.csv            100%[===================>]     157  --.-KB/s    in 0s      \n",
            "\n",
            "2019-12-09 08:54:42 (37.3 MB/s) - ‘data.csv’ saved [157/157]\n",
            "\n"
          ],
          "name": "stdout"
        }
      ]
    },
    {
      "cell_type": "markdown",
      "metadata": {
        "id": "LzFw4LAD3BQQ",
        "colab_type": "text"
      },
      "source": [
        "-"
      ]
    },
    {
      "cell_type": "code",
      "metadata": {
        "id": "KDEJxRRo3BQS",
        "colab_type": "code",
        "colab": {}
      },
      "source": [
        "attributes = [ \n",
        "               ['Sunny','Rainy'  ],\n",
        "               ['Warm','Cold'    ],\n",
        "               ['Normal','High'  ],\n",
        "               ['Strong','Weak'  ],\n",
        "               ['Warm','Cool'    ],\n",
        "               ['Same','Change'  ]\n",
        "             ]"
      ],
      "execution_count": 0,
      "outputs": []
    },
    {
      "cell_type": "markdown",
      "metadata": {
        "id": "GdgZw5ws3BQc",
        "colab_type": "text"
      },
      "source": [
        "-"
      ]
    },
    {
      "cell_type": "code",
      "metadata": {
        "id": "lt058-Bf3BQe",
        "colab_type": "code",
        "colab": {}
      },
      "source": [
        "\n",
        "data_list = []\n",
        "\n",
        "with open('data.csv', 'r') as csvFile:\n",
        "    reader = csv.reader(csvFile)\n",
        "    for row in reader:\n",
        "        data_list.append(row)\n",
        "    "
      ],
      "execution_count": 0,
      "outputs": []
    },
    {
      "cell_type": "markdown",
      "metadata": {
        "id": "IC788qKd3BQm",
        "colab_type": "text"
      },
      "source": [
        "-"
      ]
    },
    {
      "cell_type": "code",
      "metadata": {
        "id": "UFigM67Z3BQp",
        "colab_type": "code",
        "colab": {
          "base_uri": "https://localhost:8080/",
          "height": 88
        },
        "outputId": "328ded9d-f5b1-42e2-d00a-265245526a08"
      },
      "source": [
        "num_attributes = len(attributes)\n",
        "hypothesis = ['0'] * num_attributes\n",
        "\n",
        "print(\"The initial value of hypothesis:\", end='\\n'*3)\n",
        "print(hypothesis)"
      ],
      "execution_count": 15,
      "outputs": [
        {
          "output_type": "stream",
          "text": [
            "The initial value of hypothesis:\n",
            "\n",
            "\n",
            "['0', '0', '0', '0', '0', '0']\n"
          ],
          "name": "stdout"
        }
      ]
    },
    {
      "cell_type": "markdown",
      "metadata": {
        "id": "gpUmKNyT3BQy",
        "colab_type": "text"
      },
      "source": [
        "-"
      ]
    },
    {
      "cell_type": "code",
      "metadata": {
        "id": "dPP0mAo03BQ0",
        "colab_type": "code",
        "colab": {}
      },
      "source": [
        "# Comparing with First Training Example ( Assigning )\n",
        "\n",
        "*first_sample, output = data_list[0]    \n",
        "hypothesis = first_sample[:]            # Deep copy\n"
      ],
      "execution_count": 0,
      "outputs": []
    },
    {
      "cell_type": "markdown",
      "metadata": {
        "id": "maWFB9bV3BQ8",
        "colab_type": "text"
      },
      "source": [
        "-"
      ]
    },
    {
      "cell_type": "code",
      "metadata": {
        "id": "N23ZfOYV3BRA",
        "colab_type": "code",
        "colab": {
          "base_uri": "https://localhost:8080/",
          "height": 141
        },
        "outputId": "71687854-7362-4597-875d-d53f27be0390"
      },
      "source": [
        "\n",
        "# Comparing with Remaining Training Examples of Given Data Set\n",
        "\n",
        "print(\"Find S: Finding a Maximally Specific Hypothesis\", end='\\n'*3)\n",
        "\n",
        "outer_index = 1\n",
        "\n",
        "for *data, output in data_list:      \n",
        "    \n",
        "    if output == 'Yes':\n",
        "            for index, attribute in enumerate(data):   \n",
        "                if attribute != hypothesis[index]:\n",
        "                    hypothesis[index] = '?'\n",
        "                \n",
        "                \n",
        "                    \n",
        "    print(\"For Training Example No : {0} the hypothesis is {1} \".format( outer_index, hypothesis) )\n",
        "    outer_index += 1       \n"
      ],
      "execution_count": 17,
      "outputs": [
        {
          "output_type": "stream",
          "text": [
            "Find S: Finding a Maximally Specific Hypothesis\n",
            "\n",
            "\n",
            "For Training Example No : 1 the hypothesis is ['Sunny', 'Warm', 'Normal', 'Strong', 'Warm', 'Same'] \n",
            "For Training Example No : 2 the hypothesis is ['Sunny', 'Warm', '?', 'Strong', 'Warm', 'Same'] \n",
            "For Training Example No : 3 the hypothesis is ['Sunny', 'Warm', '?', 'Strong', 'Warm', 'Same'] \n",
            "For Training Example No : 4 the hypothesis is ['Sunny', 'Warm', '?', 'Strong', '?', '?'] \n"
          ],
          "name": "stdout"
        }
      ]
    },
    {
      "cell_type": "markdown",
      "metadata": {
        "id": "w1Th1qZj3BRI",
        "colab_type": "text"
      },
      "source": [
        "-\n",
        " "
      ]
    },
    {
      "cell_type": "code",
      "metadata": {
        "id": "IGS_Mo273BRK",
        "colab_type": "code",
        "colab": {
          "base_uri": "https://localhost:8080/",
          "height": 70
        },
        "outputId": "4c16eb64-1b68-42f1-e2a3-22ecc1365804"
      },
      "source": [
        "print(\" The Maximally Specific Hypothesis for a given Training Examples:\", end='\\n'*2)\n",
        "print(hypothesis)"
      ],
      "execution_count": 18,
      "outputs": [
        {
          "output_type": "stream",
          "text": [
            " The Maximally Specific Hypothesis for a given Training Examples:\n",
            "\n",
            "['Sunny', 'Warm', '?', 'Strong', '?', '?']\n"
          ],
          "name": "stdout"
        }
      ]
    },
    {
      "cell_type": "markdown",
      "metadata": {
        "id": "SThPUK_K3BRR",
        "colab_type": "text"
      },
      "source": [
        "- "
      ]
    },
    {
      "cell_type": "code",
      "metadata": {
        "id": "85Esb8gC3BRT",
        "colab_type": "code",
        "colab": {
          "base_uri": "https://localhost:8080/",
          "height": 106
        },
        "outputId": "3efae773-5fe4-4c96-c8dd-a5cf1810be9e"
      },
      "source": [
        "# PS: Dataset for clarity\n",
        "print(open('data.csv').read())"
      ],
      "execution_count": 19,
      "outputs": [
        {
          "output_type": "stream",
          "text": [
            "Sunny,Warm,Normal,Strong,Warm,Same,Yes\n",
            "Sunny,Warm,High,Strong,Warm,Same,Yes\n",
            "Rainy,Cold,High,Strong,Warm,Change,No\n",
            "Sunny,Warm,High,Strong,Cool,Change,Yes\n",
            "\n"
          ],
          "name": "stdout"
        }
      ]
    }
  ]
}